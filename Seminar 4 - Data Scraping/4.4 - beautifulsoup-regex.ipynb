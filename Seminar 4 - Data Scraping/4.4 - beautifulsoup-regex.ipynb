{
 "cells": [
  {
   "cell_type": "markdown",
   "metadata": {},
   "source": [
    "# Beautifulsoup: find by regual expression\n",
    "**First we import re for regex. Then, open a [page](https://anr.hse.ru/), then we can apply beautifulsoup on this page's html.**"
   ]
  },
  {
   "cell_type": "code",
   "execution_count": 1,
   "metadata": {
    "tags": []
   },
   "outputs": [],
   "source": [
    "from bs4 import BeautifulSoup\n",
    "import requests\n",
    "import re\n",
    "\n",
    "resp = requests.get(\"https://anr.hse.ru/resources\")\n",
    "html = resp.text"
   ]
  },
  {
   "cell_type": "code",
   "execution_count": 4,
   "metadata": {},
   "outputs": [],
   "source": [
    "reg = re.compile('/mirror/pubs/.*?')"
   ]
  },
  {
   "cell_type": "code",
   "execution_count": 9,
   "metadata": {},
   "outputs": [
    {
     "data": {
      "text/plain": [
       "[]"
      ]
     },
     "execution_count": 9,
     "metadata": {},
     "output_type": "execute_result"
    }
   ],
   "source": [
    "re.findall(reg, \"фвфывф\")"
   ]
  },
  {
   "cell_type": "markdown",
   "metadata": {},
   "source": [
    "**Parsing this html using a method called lxml, create a soup object. Find all \"img\" tag which has a src in a given pattern.**"
   ]
  },
  {
   "cell_type": "code",
   "execution_count": 2,
   "metadata": {},
   "outputs": [
    {
     "name": "stdout",
     "output_type": "stream",
     "text": [
      "https://www.cambridge.org/core/books/social-network-analysis/90030086891EB3491D096034684EFFB8\n",
      "https://www.wiley.com/en-us/Understanding+Large+Temporal+Networks+and+Spatial+Networks%3A+Exploration%2C+Pattern+Searching%2C+Visualization+and+Network+Evolution-p-9780470714522\n",
      "https://www.cambridge.org/core/books/exploratory-social-network-analysis-with-pajek/6F8EE2512CB7C6D233DB2DAC3886D4F5\n",
      "https://proxylibrary.hse.ru:2253/ehost/detail/detail?vid=0&sid=c03d6f98-d35f-489d-9a0e-1f84b14aae44%40pdc-v-sessmgr02&bdata=#AN=412129&db=nlebk\n",
      "https://www.cambridge.org/core/books/egocentric-network-analysis/D241B6D07F1A5C760657F252FAD65A4C\n",
      "https://uk.sagepub.com/en-gb/eur/social-network-analysis/book249668\n",
      "https://books.google.ru/books/about/Qualitative_Networks.html?id=FiRHBAAAQBAJ&redir_esc=y\n",
      "https://www.cambridge.org/gb/academic/subjects/physics/statistical-physics/network-science?format=HB&isbn=9781107076266\n",
      "https://www.wiley.com/en-us/Advances+in+Network+Clustering+and+Blockmodeling-p-9781119224709\n",
      "https://www.cambridge.org/gb/academic/subjects/sociology/research-methods-sociology-and-criminology/mixed-methods-social-networks-research-design-and-applications?format=PB\n",
      "https://link.springer.com/referencework/10.1007/978-1-4939-7131-2\n",
      "https://www.journals.elsevier.com/social-networks\n",
      "https://www.cambridge.org/core/journals/network-science\n",
      "https://www.exeley.com/journal/journal_of_social_structure\n",
      "https://www.exeley.com/journal/connections\n"
     ]
    }
   ],
   "source": [
    "soup = BeautifulSoup(html, features='lxml')\n",
    "\n",
    "img_links = soup.find_all(\"img\", {\"src\": re.compile('/mirror/pubs/.*?')})\n",
    "for link in img_links:\n",
    "    print(link.parent['href'])"
   ]
  },
  {
   "cell_type": "code",
   "execution_count": 3,
   "metadata": {},
   "outputs": [
    {
     "name": "stdout",
     "output_type": "stream",
     "text": [
      "https://www.hse.ru/cookie.html\n",
      "https://www.hse.ru/data_protection_regulation\n",
      "https://anr.hse.ru/en/resources/\n",
      "https://anr.hse.ru\n",
      "https://anr.hse.ru/about\n",
      "https://anr.hse.ru/persons\n",
      "https://anr.hse.ru/job\n",
      "https://anr.hse.ru/directions\n",
      "https://anr.hse.ru/projects\n",
      "https://anr.hse.ru/news/announcements/\n",
      "https://anr.hse.ru/seminars\n",
      "https://anr.hse.ru/news/ourconferences/\n",
      "https://anr.hse.ru/news/ourschools/\n",
      "https://www.hse.ru/ma/sna\n",
      "https://anr.hse.ru/consult\n",
      "https://www.hse.ru/org/persons/207739493\n",
      "https://www.hse.ru/staff/vkuskova\n",
      "https://www.hse.ru/org/persons/337495021\n",
      "https://anr.hse.ru/en/resources/\n",
      "https://www.hse.ru\n",
      "https://anr.hse.ru/\n",
      "https://anr.hse.ru\n",
      "https://anr.hse.ru/\n",
      "https://anr.hse.ru/about\n",
      "https://anr.hse.ru/persons\n",
      "https://anr.hse.ru/job\n",
      "https://anr.hse.ru/directions\n",
      "https://anr.hse.ru/projects\n",
      "https://anr.hse.ru/news/announcements/\n",
      "https://anr.hse.ru/seminars\n",
      "https://anr.hse.ru/news/ourconferences/\n",
      "https://anr.hse.ru/news/ourschools/\n",
      "https://www.hse.ru/ma/sna\n",
      "https://anr.hse.ru/consult\n",
      "https://www.hse.ru/org/persons/207739493\n",
      "https://www.hse.ru/staff/vkuskova\n",
      "https://www.hse.ru/org/persons/337495021\n",
      "https://library.hse.ru/e-resources\n",
      "https://www.cambridge.org/core/books/social-network-analysis/90030086891EB3491D096034684EFFB8\n",
      "https://www.wiley.com/en-us/Understanding+Large+Temporal+Networks+and+Spatial+Networks%3A+Exploration%2C+Pattern+Searching%2C+Visualization+and+Network+Evolution-p-9780470714522\n",
      "https://www.cambridge.org/core/books/exploratory-social-network-analysis-with-pajek/6F8EE2512CB7C6D233DB2DAC3886D4F5\n",
      "https://proxylibrary.hse.ru:2253/ehost/detail/detail?vid=0&sid=c03d6f98-d35f-489d-9a0e-1f84b14aae44%40pdc-v-sessmgr02&bdata=#AN=412129&db=nlebk\n",
      "https://www.cambridge.org/core/books/egocentric-network-analysis/D241B6D07F1A5C760657F252FAD65A4C\n",
      "https://uk.sagepub.com/en-gb/eur/social-network-analysis/book249668\n",
      "https://books.google.ru/books/about/Qualitative_Networks.html?id=FiRHBAAAQBAJ&redir_esc=y\n",
      "https://www.cambridge.org/gb/academic/subjects/physics/statistical-physics/network-science?format=HB&isbn=9781107076266\n",
      "https://www.wiley.com/en-us/Advances+in+Network+Clustering+and+Blockmodeling-p-9781119224709\n",
      "https://www.cambridge.org/gb/academic/subjects/sociology/research-methods-sociology-and-criminology/mixed-methods-social-networks-research-design-and-applications?format=PB\n",
      "https://link.springer.com/referencework/10.1007/978-1-4939-7131-2\n",
      "https://www.journals.elsevier.com/social-networks\n",
      "https://www.cambridge.org/core/journals/network-science\n",
      "https://www.exeley.com/journal/journal_of_social_structure\n",
      "https://www.exeley.com/journal/connections\n",
      "https://www.insna.org\n",
      "https://anr.hse.ru/\n",
      "https://www.hse.ru/org/hse/aup/procurement/\n",
      "https://www.hse.ru/anticorruption\n",
      "https://www.hse.ru/anticorruption/information\n",
      "https://inclusive.hse.ru/\n",
      "https://pay.hse.ru/\n",
      "https://fdp.hse.ru/\n",
      "https://www.hse.ru/plus\n",
      "https://busedu.hse.ru/corporate\n",
      "https://career.hse.ru/\n",
      "https://careerspace.hse.ru/\n",
      "https://www.hse.ru/org/projects/\n",
      "https://www.hse.ru/news/announcements/scientific_actions/\n",
      "https://aspirantura.hse.ru/defence/announcements/\n",
      "https://iq.hse.ru/\n",
      "https://conf.hse.ru/2021\n",
      "https://library.hse.ru/\n",
      "https://id.hse.ru/shop/\n",
      "https://print.hse.ru/\n",
      "https://mc.hse.ru/\n",
      "https://moscow.hse.ru\n",
      "https://store.hse.ru/\n",
      "https://edu.gov.ru/\n",
      "https://elearning.hse.ru/mooc\n",
      "https://studyinrussia.ru/\n",
      "https://www.hse.ru/adm/edit/edit.html?goto=%2AaHR0cDovL2Fuci5oc2UucnUvcmVzb3VyY2VzP19yPTg3MDg2NzE2MDU4MDYwNTcuMTYyMDI%3D%5E&id=123281697&cid=20594&addon_name=default&newportal=1\n",
      "https://www.hse.ru/contacts.html\n",
      "https://www.hse.ru/copyright\n",
      "https://www.hse.ru/data_protection_regulation\n",
      "https://www.hse.ru/sitemap.html\n"
     ]
    }
   ],
   "source": [
    "course_links = soup.find_all('a', {'href': re.compile('https://.*')})\n",
    "for link in course_links:\n",
    "    print(link['href'])"
   ]
  },
  {
   "cell_type": "code",
   "execution_count": null,
   "metadata": {},
   "outputs": [],
   "source": []
  }
 ],
 "metadata": {
  "kernelspec": {
   "display_name": "Python 3",
   "language": "python",
   "name": "python3"
  },
  "language_info": {
   "codemirror_mode": {
    "name": "ipython",
    "version": 3
   },
   "file_extension": ".py",
   "mimetype": "text/x-python",
   "name": "python",
   "nbconvert_exporter": "python",
   "pygments_lexer": "ipython3",
   "version": "3.8.5"
  }
 },
 "nbformat": 4,
 "nbformat_minor": 1
}
