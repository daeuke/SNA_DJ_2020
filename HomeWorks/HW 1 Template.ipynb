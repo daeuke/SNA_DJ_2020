{
 "cells": [
  {
   "cell_type": "markdown",
   "metadata": {},
   "source": [
    "# <center>Social Network Data Analysis</center>"
   ]
  },
  {
   "cell_type": "markdown",
   "metadata": {},
   "source": [
    "Home Assignment #1: Network description and network centralities"
   ]
  },
  {
   "cell_type": "markdown",
   "metadata": {},
   "source": [
    "#### <hr /> General Information"
   ]
  },
  {
   "cell_type": "markdown",
   "metadata": {},
   "source": [
    "**Due Date:** 19.11.2020 18:00 <br>\n",
    "**Late submission policy:** -1 points per day <br>\n",
    "\n",
    "\n",
    "Please send your reports to <iakarpov@hse.ru> with message subject of the following structure: <br>\n",
    "**[HSE SNA UD 2020] *{LastName}* *{First Name}* HW_1**\n",
    "\n",
    "Support your computations with figures and **comments**. <br>\n",
    "If you are using IPython Notebook you may use this file as a starting point of your report."
   ]
  },
  {
   "cell_type": "markdown",
   "metadata": {},
   "source": [
    "## Problems"
   ]
  },
  {
   "cell_type": "markdown",
   "metadata": {},
   "source": [
    "### Task 1. Data preparation"
   ]
  },
  {
   "cell_type": "markdown",
   "metadata": {},
   "source": [
    "<img src =\"https://dl.dropboxusercontent.com/s/nt1tbmathgo3gg8/g1.png?dl=1\" style=\"width:600px;heigth:200px\">"
   ]
  },
  {
   "cell_type": "markdown",
   "metadata": {},
   "source": [
    "1.1. Load [VKontakte](https://dl.dropboxusercontent.com/s/8eo1sjfhu5spb0f/vk.tsv?dl=1) dataset to NetworkX <br>\n",
    "1.2. Choose 3-5 nodes from the existing network and create the subgraph with network framing (only `seed` and `friends#1` nodes, only `r0`, `r1`, `r2` edges) <br>\n",
    "1.3. Find graph diameter, average and global clustering coefficient <br> \n",
    "1.4. Find max and mean values of incoming and outcoming node degrees <br>\n",
    "1.5. Vizualize your graph in gephi, networkX and grahistry <br>\n"
   ]
  },
  {
   "cell_type": "code",
   "execution_count": 7,
   "metadata": {},
   "outputs": [],
   "source": [
    "# Start your code here\n",
    "#\n",
    "#\n",
    "#"
   ]
  },
  {
   "cell_type": "markdown",
   "metadata": {},
   "source": [
    "### Task 2. Structural analysis"
   ]
  },
  {
   "cell_type": "markdown",
   "metadata": {},
   "source": [
    "3.1. Print 5 nodes with maximum degree centrality, vizualize your graph with color or size as the function of degree <br>\n",
    "3.2. Print 5 nodes with maximum betweenness centrality, vizualize your graph with color or size as the function of degree <br>\n",
    "3.3. Print 5 nodes with maximum eigenvector centrality, vizualize your graph with color or size as the function of degree <br>\n",
    "3.4 Print histogram with centralities distribution of your graph <br>\n",
    "\n",
    "Extra 2 points for visualisation effects (label adjust, picked node sizes, no node overlap)"
   ]
  },
  {
   "cell_type": "code",
   "execution_count": 1,
   "metadata": {},
   "outputs": [],
   "source": [
    "# Start your code here\n",
    "#\n",
    "#\n",
    "#"
   ]
  },
  {
   "cell_type": "code",
   "execution_count": null,
   "metadata": {},
   "outputs": [],
   "source": []
  }
 ],
 "metadata": {
  "kernelspec": {
   "name": "Python 3.7.4 32-bit",
   "display_name": "Python 3.7.4 32-bit",
   "metadata": {
    "interpreter": {
     "hash": "d9dc88e4aa9c05378aa5e64bcd0e11e2b1e5984d8afad505fdf0864ca3363bab"
    }
   }
  },
  "language_info": {
   "codemirror_mode": {
    "name": "ipython",
    "version": 3
   },
   "file_extension": ".py",
   "mimetype": "text/x-python",
   "name": "python",
   "nbconvert_exporter": "python",
   "pygments_lexer": "ipython3",
   "version": "3.7.4-final"
  }
 },
 "nbformat": 4,
 "nbformat_minor": 2
}